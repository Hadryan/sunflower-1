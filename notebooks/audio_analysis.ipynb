{
 "cells": [
  {
   "cell_type": "code",
   "execution_count": 22,
   "metadata": {
    "ExecuteTime": {
     "end_time": "2020-11-07T21:03:51.687113Z",
     "start_time": "2020-11-07T21:03:51.492398Z"
    }
   },
   "outputs": [
    {
     "name": "stdout",
     "output_type": "stream",
     "text": [
      "The autoreload extension is already loaded. To reload it, use:\n",
      "  %reload_ext autoreload\n"
     ]
    }
   ],
   "source": [
    "# Add directory above current directory to path\n",
    "import sys\n",
    "sys.path.insert(0, '..')\n",
    "\n",
    "from sunflower.song_loader import Song,load_from_disk\n",
    "from sunflower.song_analyzer import SongAnalyzer\n",
    "from sunflower.utils import export_wav\n",
    "# Autoreloading for easier development\n",
    "\n",
    "%load_ext autoreload\n",
    "%autoreload 2"
   ]
  },
  {
   "cell_type": "code",
   "execution_count": 23,
   "metadata": {
    "ExecuteTime": {
     "end_time": "2020-11-07T21:03:52.878583Z",
     "start_time": "2020-11-07T21:03:51.707049Z"
    }
   },
   "outputs": [
    {
     "name": "stdout",
     "output_type": "stream",
     "text": [
      "waveform: [[ 4.33444977e-04  2.06470490e-04]\n",
      " [ 1.26147270e-03  1.05595589e-03]\n",
      " [ 1.95264816e-03  1.75952911e-03]\n",
      " ...\n",
      " [ 0.00000000e+00 -2.39349902e-07]\n",
      " [ 0.00000000e+00 -9.31322575e-10]\n",
      " [ 0.00000000e+00  0.00000000e+00]], mono_waveform: [ 3.43552e+05  1.24416e+06  1.99296e+06 ... -1.29000e+02 -1.00000e+00\n",
      "  0.00000e+00], extension: wav, channels: 2, sr: 44100, sample_width: 4\n"
     ]
    }
   ],
   "source": [
    "# Loading example file \n",
    "\n",
    "raw_audio, extension = load_from_disk(\"../data/guitar_80.wav\")\n",
    "\n",
    "song = Song(raw_audio, extension)\n",
    "\n",
    "song.print_attributes()"
   ]
  },
  {
   "cell_type": "code",
   "execution_count": 24,
   "metadata": {
    "ExecuteTime": {
     "end_time": "2020-11-07T21:03:53.267732Z",
     "start_time": "2020-11-07T21:03:52.883619Z"
    }
   },
   "outputs": [],
   "source": [
    "export_wav(song)"
   ]
  },
  {
   "cell_type": "code",
   "execution_count": null,
   "metadata": {},
   "outputs": [],
   "source": []
  }
 ],
 "metadata": {
  "kernelspec": {
   "display_name": "sunflowerKernel",
   "language": "python",
   "name": "sunflowerkernel"
  },
  "language_info": {
   "codemirror_mode": {
    "name": "ipython",
    "version": 3
   },
   "file_extension": ".py",
   "mimetype": "text/x-python",
   "name": "python",
   "nbconvert_exporter": "python",
   "pygments_lexer": "ipython3",
   "version": "3.7.4"
  },
  "toc": {
   "base_numbering": 1,
   "nav_menu": {},
   "number_sections": true,
   "sideBar": true,
   "skip_h1_title": true,
   "title_cell": "Table of Contents",
   "title_sidebar": "Contents",
   "toc_cell": false,
   "toc_position": {},
   "toc_section_display": true,
   "toc_window_display": false
  }
 },
 "nbformat": 4,
 "nbformat_minor": 2
}
