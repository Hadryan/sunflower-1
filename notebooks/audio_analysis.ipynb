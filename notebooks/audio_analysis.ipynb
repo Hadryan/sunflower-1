{
 "cells": [
  {
   "cell_type": "code",
   "execution_count": 9,
   "metadata": {
    "ExecuteTime": {
     "end_time": "2020-11-07T12:48:47.257970Z",
     "start_time": "2020-11-07T12:48:47.113357Z"
    }
   },
   "outputs": [
    {
     "name": "stdout",
     "output_type": "stream",
     "text": [
      "The autoreload extension is already loaded. To reload it, use:\n",
      "  %reload_ext autoreload\n"
     ]
    }
   ],
   "source": [
    "# Add directory above current directory to path\n",
    "import sys\n",
    "sys.path.insert(0, '..')\n",
    "\n",
    "from sunflower.song_loader import Song,load_from_disk\n",
    "\n",
    "# Autoreloading for easier development\n",
    "\n",
    "%load_ext autoreload\n",
    "%autoreload 2"
   ]
  },
  {
   "cell_type": "code",
   "execution_count": 10,
   "metadata": {
    "ExecuteTime": {
     "end_time": "2020-11-07T12:48:48.709504Z",
     "start_time": "2020-11-07T12:48:47.338756Z"
    }
   },
   "outputs": [
    {
     "name": "stdout",
     "output_type": "stream",
     "text": [
      "waveform: [[-5.1250305  1.8984375]\n",
      " [12.2734375  6.1484375]\n",
      " [54.8125    49.0625   ]\n",
      " ...\n",
      " [-9.835968  13.734375 ]\n",
      " [-7.0000305 15.8125   ]\n",
      " [-7.1094055  6.0234375]], extension: wav, channels: 2, sr: 44100, sample_width: 4, mono_waveform: [ -52865.  301824. 1701888. ...   63871.  144383.  -17793.]\n"
     ]
    }
   ],
   "source": [
    "# Loading example file \n",
    "\n",
    "raw_audio, extension = load_from_disk(\"../data/drums_75.wav\")\n",
    "\n",
    "song = Song(raw_audio, extension)\n",
    "\n",
    "song.print_attributes()"
   ]
  },
  {
   "cell_type": "code",
   "execution_count": null,
   "metadata": {},
   "outputs": [],
   "source": []
  }
 ],
 "metadata": {
  "kernelspec": {
   "display_name": "sunflowerKernel",
   "language": "python",
   "name": "sunflowerkernel"
  },
  "language_info": {
   "codemirror_mode": {
    "name": "ipython",
    "version": 3
   },
   "file_extension": ".py",
   "mimetype": "text/x-python",
   "name": "python",
   "nbconvert_exporter": "python",
   "pygments_lexer": "ipython3",
   "version": "3.7.4"
  },
  "toc": {
   "base_numbering": 1,
   "nav_menu": {},
   "number_sections": true,
   "sideBar": true,
   "skip_h1_title": true,
   "title_cell": "Table of Contents",
   "title_sidebar": "Contents",
   "toc_cell": false,
   "toc_position": {},
   "toc_section_display": true,
   "toc_window_display": false
  }
 },
 "nbformat": 4,
 "nbformat_minor": 2
}
