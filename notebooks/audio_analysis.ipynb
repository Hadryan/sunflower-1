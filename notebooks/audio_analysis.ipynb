{
 "cells": [
  {
   "cell_type": "code",
   "execution_count": 42,
   "metadata": {
    "ExecuteTime": {
     "end_time": "2020-11-07T21:50:47.825279Z",
     "start_time": "2020-11-07T21:50:47.565594Z"
    }
   },
   "outputs": [
    {
     "name": "stdout",
     "output_type": "stream",
     "text": [
      "The autoreload extension is already loaded. To reload it, use:\n",
      "  %reload_ext autoreload\n"
     ]
    }
   ],
   "source": [
    "# Add directory above current directory to path\n",
    "import sys\n",
    "sys.path.insert(0, '..')\n",
    "\n",
    "from sunflower.song_loader import Song,load_from_disk\n",
    "from sunflower.song_analyzer import SongAnalyzer\n",
    "from sunflower.utils import export_wav\n",
    "from sunflower.benchmark import run_benchmark\n",
    "import soundfile as sf\n",
    "\n",
    "# Autoreloading for easier development\n",
    "\n",
    "%load_ext autoreload\n",
    "%autoreload 2"
   ]
  },
  {
   "cell_type": "code",
   "execution_count": 49,
   "metadata": {
    "ExecuteTime": {
     "end_time": "2020-11-07T21:54:11.992296Z",
     "start_time": "2020-11-07T21:54:10.518453Z"
    }
   },
   "outputs": [
    {
     "name": "stdout",
     "output_type": "stream",
     "text": [
      "waveform: [[-1.56403519e-04  5.79357147e-05]\n",
      " [ 3.74555588e-04  1.87635422e-04]\n",
      " [ 1.67274475e-03  1.49726868e-03]\n",
      " ...\n",
      " [-3.00169922e-04  4.19139862e-04]\n",
      " [-2.13623978e-04  4.82559204e-04]\n",
      " [-2.16961838e-04  1.83820724e-04]], mono_waveform: [ -52865.  301824. 1701888. ...   63871.  144383.  -17793.], extension: wav, channels: 2, sr: 44100, sample_width: 4\n"
     ]
    }
   ],
   "source": [
    "# Loading example file \n",
    "\n",
    "raw_audio, extension = load_from_disk(\"../data/drums_75.wav\")\n",
    "\n",
    "song = Song(raw_audio, extension)\n",
    "\n",
    "song.print_attributes()"
   ]
  },
  {
   "cell_type": "code",
   "execution_count": 50,
   "metadata": {
    "ExecuteTime": {
     "end_time": "2020-11-07T21:54:13.361450Z",
     "start_time": "2020-11-07T21:54:11.998308Z"
    }
   },
   "outputs": [
    {
     "name": "stdout",
     "output_type": "stream",
     "text": [
      "74.89809782608695\n"
     ]
    }
   ],
   "source": [
    "# Analyzing song\n",
    "\n",
    "song_analyzer = SongAnalyzer(song)\n",
    "song_analyzer.detect_tempo()\n",
    "\n",
    "print(song_analyzer.tempo)"
   ]
  },
  {
   "cell_type": "code",
   "execution_count": 51,
   "metadata": {
    "ExecuteTime": {
     "end_time": "2020-11-07T21:55:04.157275Z",
     "start_time": "2020-11-07T21:54:57.585895Z"
    }
   },
   "outputs": [
    {
     "data": {
      "text/plain": [
       "{'drums_75.wav': {'BPM': 75, 'Found BPM': 75.0},\n",
       " 'guitar_80.wav': {'BPM': 80, 'Found BPM': 83.0},\n",
       " 'piano_75.wav': {'BPM': 75, 'Found BPM': 75.0}}"
      ]
     },
     "execution_count": 51,
     "metadata": {},
     "output_type": "execute_result"
    }
   ],
   "source": [
    "run_benchmark()"
   ]
  }
 ],
 "metadata": {
  "kernelspec": {
   "display_name": "sunflowerKernel",
   "language": "python",
   "name": "sunflowerkernel"
  },
  "language_info": {
   "codemirror_mode": {
    "name": "ipython",
    "version": 3
   },
   "file_extension": ".py",
   "mimetype": "text/x-python",
   "name": "python",
   "nbconvert_exporter": "python",
   "pygments_lexer": "ipython3",
   "version": "3.7.4"
  },
  "toc": {
   "base_numbering": 1,
   "nav_menu": {},
   "number_sections": true,
   "sideBar": true,
   "skip_h1_title": true,
   "title_cell": "Table of Contents",
   "title_sidebar": "Contents",
   "toc_cell": false,
   "toc_position": {},
   "toc_section_display": true,
   "toc_window_display": false
  }
 },
 "nbformat": 4,
 "nbformat_minor": 2
}
